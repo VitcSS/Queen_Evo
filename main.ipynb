{
 "cells": [
  {
   "cell_type": "code",
   "execution_count": 133,
   "metadata": {},
   "outputs": [],
   "source": [
    "from random import shuffle, randint,sample,choices, random \n",
    "import matplotlib.pyplot as plt\n",
    "from typing import List"
   ]
  },
  {
   "cell_type": "code",
   "execution_count": 134,
   "metadata": {},
   "outputs": [],
   "source": [
    "\n",
    "def create_solution(n:int)->List:\n",
    "    \"\"\"Generate a random permutation of size n that represents a solution.\"\"\"\n",
    "    sol : List =  list(range(n))\n",
    "    shuffle(sol)\n",
    "    return sol\n",
    "\n",
    "def crossover(parent_1, parent_2):\n",
    "    \"\"\"Perform one-point crossover to create two offsprings.\"\"\"\n",
    "    n = len(parent_1)\n",
    "    ref_point = randint(1, n-1)\n",
    "    child_1 = parent_1[:ref_point] + [x for x in parent_2 if x not in parent_1[:ref_point]]\n",
    "    child_2 = parent_2[:ref_point] + [x for x in parent_1 if x not in parent_2[:ref_point]]\n",
    "    return child_1, child_2\n",
    "\n",
    "def mutate(permutation) -> None:\n",
    "    \"\"\"Apply mutation to a permutation with a given mutation rate.\"\"\"\n",
    "    i, j = sample(range(len(permutation)), 2)\n",
    "    permutation[i], permutation[j] = permutation[j], permutation[i]\n"
   ]
  },
  {
   "cell_type": "code",
   "execution_count": 135,
   "metadata": {},
   "outputs": [],
   "source": [
    "\n",
    "def fitness(sol : List) -> int:\n",
    "    \"\"\"Calculate the fitness of a permutation (number of queen conflicts).\"\"\"\n",
    "    conflicts = 0\n",
    "    n = len(sol)\n",
    "    for i in range(n):\n",
    "        for j in range(i+1, n):\n",
    "            if abs(i - j) == abs(sol[i] - sol[j]):\n",
    "                conflicts += 1\n",
    "    return conflicts"
   ]
  },
  {
   "cell_type": "code",
   "execution_count": 136,
   "metadata": {},
   "outputs": [],
   "source": [
    "def metrics(best_solutions : List, worst_solutions : List)->None:\n",
    "    \"\"\"Plot the development of worst and best solutions per generation\"\"\"\n",
    "    x = range(len(best_solutions))\n",
    "    plt.plot(x, best_solutions, label='Best Solution')\n",
    "    plt.plot(x, worst_solutions, label='Worst Solution')\n",
    "    plt.xlabel('Generation')\n",
    "    plt.ylabel('Fitness (Number of Conflicts)')\n",
    "    plt.legend()\n",
    "    plt.title('Genetic Algorithm for N-Queens')\n",
    "    plt.show()"
   ]
  },
  {
   "cell_type": "code",
   "execution_count": 137,
   "metadata": {},
   "outputs": [],
   "source": [
    "\n",
    "def genetic_algorithm(n: int, pop_size: int, mutation_rate: float, max_generations: int) -> List[int]:\n",
    "    best_solutions = []  # To store the best solution per generation\n",
    "    worst_solutions = []  # To store the worst solution per generation\n",
    "\n",
    "    pop = [create_solution(n) for _ in range(pop_size)]\n",
    "\n",
    "    for _ in range(max_generations):\n",
    "        # Order population by fitness quality.\n",
    "        pop = sorted(pop, key=lambda x: fitness(x))\n",
    "\n",
    "        best_solution = pop[0]\n",
    "        # Save historic data of best and worst solutions per generation.\n",
    "        best_solutions.append(fitness(pop[0]))\n",
    "        worst_solutions.append(fitness(pop[-1]))\n",
    "\n",
    "        if fitness(best_solution) == 0:\n",
    "            break\n",
    "        new_pop : List = []\n",
    "        for _ in range(pop_size // 2):\n",
    "            parent1, parent2 = choices(pop[:pop_size // 2], k=2)\n",
    "            child1, child2 = crossover(parent1, parent2)\n",
    "            mutate(child1, mutation_rate)\n",
    "            mutate(child2, mutation_rate)\n",
    "            new_pop.extend([child1, child2])\n",
    "        pop = new_pop\n",
    "    # Plot the best and worst solution per generation.\n",
    "    metrics(best_solutions, worst_solutions)\n",
    "    return best_solution  # Return the best solution found"
   ]
  },
  {
   "cell_type": "code",
   "execution_count": 138,
   "metadata": {},
   "outputs": [],
   "source": [
    "\n",
    "def print_board(sol : List):\n",
    "    n = len(sol)\n",
    "    for row in range(n):\n",
    "        line = \"\"\n",
    "        for col in range(n):\n",
    "            if sol[col] == row:\n",
    "                line += \"Q \"\n",
    "            else:\n",
    "                line += \". \"\n",
    "        print(line)\n"
   ]
  },
  {
   "cell_type": "code",
   "execution_count": 139,
   "metadata": {},
   "outputs": [
    {
     "ename": "TypeError",
     "evalue": "mutate() takes 1 positional argument but 2 were given",
     "output_type": "error",
     "traceback": [
      "\u001b[0;31m---------------------------------------------------------------------------\u001b[0m",
      "\u001b[0;31mTypeError\u001b[0m                                 Traceback (most recent call last)",
      "\u001b[1;32m/root/Repositories/Class_Archives/Comp_Evo/Queen_Evo/main.ipynb Célula 7\u001b[0m line \u001b[0;36m6\n\u001b[1;32m      <a href='vscode-notebook-cell://wsl%2Bubuntu/root/Repositories/Class_Archives/Comp_Evo/Queen_Evo/main.ipynb#X11sdnNjb2RlLXJlbW90ZQ%3D%3D?line=2'>3</a>\u001b[0m mutation_rate \u001b[39m=\u001b[39m \u001b[39m0.1\u001b[39m\n\u001b[1;32m      <a href='vscode-notebook-cell://wsl%2Bubuntu/root/Repositories/Class_Archives/Comp_Evo/Queen_Evo/main.ipynb#X11sdnNjb2RlLXJlbW90ZQ%3D%3D?line=3'>4</a>\u001b[0m max_generations \u001b[39m=\u001b[39m \u001b[39m1000\u001b[39m\n\u001b[0;32m----> <a href='vscode-notebook-cell://wsl%2Bubuntu/root/Repositories/Class_Archives/Comp_Evo/Queen_Evo/main.ipynb#X11sdnNjb2RlLXJlbW90ZQ%3D%3D?line=5'>6</a>\u001b[0m best_solution \u001b[39m=\u001b[39m genetic_algorithm(n, population_size, mutation_rate, max_generations)\n\u001b[1;32m      <a href='vscode-notebook-cell://wsl%2Bubuntu/root/Repositories/Class_Archives/Comp_Evo/Queen_Evo/main.ipynb#X11sdnNjb2RlLXJlbW90ZQ%3D%3D?line=7'>8</a>\u001b[0m \u001b[39m# Print the best solution found\u001b[39;00m\n\u001b[1;32m      <a href='vscode-notebook-cell://wsl%2Bubuntu/root/Repositories/Class_Archives/Comp_Evo/Queen_Evo/main.ipynb#X11sdnNjb2RlLXJlbW90ZQ%3D%3D?line=8'>9</a>\u001b[0m \u001b[39mprint\u001b[39m(\u001b[39m\"\u001b[39m\u001b[39mBest solution:\u001b[39m\u001b[39m\"\u001b[39m, best_solution)\n",
      "\u001b[1;32m/root/Repositories/Class_Archives/Comp_Evo/Queen_Evo/main.ipynb Célula 7\u001b[0m line \u001b[0;36m2\n\u001b[1;32m     <a href='vscode-notebook-cell://wsl%2Bubuntu/root/Repositories/Class_Archives/Comp_Evo/Queen_Evo/main.ipynb#X11sdnNjb2RlLXJlbW90ZQ%3D%3D?line=17'>18</a>\u001b[0m parent1, parent2 \u001b[39m=\u001b[39m choices(pop[:pop_size \u001b[39m/\u001b[39m\u001b[39m/\u001b[39m \u001b[39m2\u001b[39m], k\u001b[39m=\u001b[39m\u001b[39m2\u001b[39m)\n\u001b[1;32m     <a href='vscode-notebook-cell://wsl%2Bubuntu/root/Repositories/Class_Archives/Comp_Evo/Queen_Evo/main.ipynb#X11sdnNjb2RlLXJlbW90ZQ%3D%3D?line=18'>19</a>\u001b[0m child1, child2 \u001b[39m=\u001b[39m crossover(parent1, parent2)\n\u001b[0;32m---> <a href='vscode-notebook-cell://wsl%2Bubuntu/root/Repositories/Class_Archives/Comp_Evo/Queen_Evo/main.ipynb#X11sdnNjb2RlLXJlbW90ZQ%3D%3D?line=19'>20</a>\u001b[0m mutate(child1, mutation_rate)\n\u001b[1;32m     <a href='vscode-notebook-cell://wsl%2Bubuntu/root/Repositories/Class_Archives/Comp_Evo/Queen_Evo/main.ipynb#X11sdnNjb2RlLXJlbW90ZQ%3D%3D?line=20'>21</a>\u001b[0m mutate(child2, mutation_rate)\n\u001b[1;32m     <a href='vscode-notebook-cell://wsl%2Bubuntu/root/Repositories/Class_Archives/Comp_Evo/Queen_Evo/main.ipynb#X11sdnNjb2RlLXJlbW90ZQ%3D%3D?line=21'>22</a>\u001b[0m new_pop\u001b[39m.\u001b[39mextend([child1, child2])\n",
      "\u001b[0;31mTypeError\u001b[0m: mutate() takes 1 positional argument but 2 were given"
     ]
    }
   ],
   "source": [
    "\n",
    "n = 8  # Change this to the desired board size\n",
    "population_size = 100\n",
    "mutation_rate = 0.1\n",
    "max_generations = 1000\n",
    "\n",
    "best_solution = genetic_algorithm(n, population_size, mutation_rate, max_generations)\n",
    "\n",
    "# Print the best solution found\n",
    "print(\"Best solution:\", best_solution)\n"
   ]
  },
  {
   "cell_type": "code",
   "execution_count": null,
   "metadata": {},
   "outputs": [],
   "source": []
  }
 ],
 "metadata": {
  "kernelspec": {
   "display_name": "queen-evo-EozFGEui-py3.10",
   "language": "python",
   "name": "python3"
  },
  "language_info": {
   "codemirror_mode": {
    "name": "ipython",
    "version": 3
   },
   "file_extension": ".py",
   "mimetype": "text/x-python",
   "name": "python",
   "nbconvert_exporter": "python",
   "pygments_lexer": "ipython3",
   "version": "3.10.12"
  },
  "orig_nbformat": 4
 },
 "nbformat": 4,
 "nbformat_minor": 2
}
